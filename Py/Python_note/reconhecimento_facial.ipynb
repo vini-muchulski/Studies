{
  "cells": [
    {
      "cell_type": "code",
      "execution_count": null,
      "id": "64bb41a2-bf15-446f-893c-6656622e70df",
      "metadata": {
        "id": "64bb41a2-bf15-446f-893c-6656622e70df",
        "outputId": "c42e5c88-5194-4aee-b876-7f9e5b3663f4"
      },
      "outputs": [
        {
          "name": "stdout",
          "output_type": "stream",
          "text": [
            "Defaulting to user installation because normal site-packages is not writeable\n",
            "Collecting mediapipe\n",
            "  Obtaining dependency information for mediapipe from https://files.pythonhosted.org/packages/62/de/6c4ceaca44df6e783dbca6d97e683b649f18cf64cfb1c76ab0ca0093e82a/mediapipe-0.10.10-cp311-cp311-win_amd64.whl.metadata\n",
            "  Downloading mediapipe-0.10.10-cp311-cp311-win_amd64.whl.metadata (9.8 kB)\n",
            "Collecting absl-py (from mediapipe)\n",
            "  Obtaining dependency information for absl-py from https://files.pythonhosted.org/packages/a2/ad/e0d3c824784ff121c03cc031f944bc7e139a8f1870ffd2845cc2dd76f6c4/absl_py-2.1.0-py3-none-any.whl.metadata\n",
            "  Downloading absl_py-2.1.0-py3-none-any.whl.metadata (2.3 kB)\n",
            "Requirement already satisfied: attrs>=19.1.0 in d:\\anaconda\\lib\\site-packages (from mediapipe) (23.1.0)\n",
            "Collecting flatbuffers>=2.0 (from mediapipe)\n",
            "  Obtaining dependency information for flatbuffers>=2.0 from https://files.pythonhosted.org/packages/6f/12/d5c79ee252793ffe845d58a913197bfa02ae9a0b5c9bc3dc4b58d477b9e7/flatbuffers-23.5.26-py2.py3-none-any.whl.metadata\n",
            "  Downloading flatbuffers-23.5.26-py2.py3-none-any.whl.metadata (850 bytes)\n",
            "Collecting jax (from mediapipe)\n",
            "  Obtaining dependency information for jax from https://files.pythonhosted.org/packages/ad/29/37cc2d58775917e6da532ef59cd3a66133d4de73fce1c16852e8475e5411/jax-0.4.25-py3-none-any.whl.metadata\n",
            "  Downloading jax-0.4.25-py3-none-any.whl.metadata (24 kB)\n",
            "Requirement already satisfied: matplotlib in d:\\anaconda\\lib\\site-packages (from mediapipe) (3.7.1)\n",
            "Requirement already satisfied: numpy in d:\\anaconda\\lib\\site-packages (from mediapipe) (1.24.3)\n",
            "Collecting opencv-contrib-python (from mediapipe)\n",
            "  Obtaining dependency information for opencv-contrib-python from https://files.pythonhosted.org/packages/aa/2e/576ac47f21d555b459ca837bb3fb937e50339b8fbfd294945ea2f5290416/opencv_contrib_python-4.9.0.80-cp37-abi3-win_amd64.whl.metadata\n",
            "  Downloading opencv_contrib_python-4.9.0.80-cp37-abi3-win_amd64.whl.metadata (20 kB)\n",
            "Collecting protobuf<4,>=3.11 (from mediapipe)\n",
            "  Obtaining dependency information for protobuf<4,>=3.11 from https://files.pythonhosted.org/packages/8d/14/619e24a4c70df2901e1f4dbc50a6291eb63a759172558df326347dce1f0d/protobuf-3.20.3-py2.py3-none-any.whl.metadata\n",
            "  Downloading protobuf-3.20.3-py2.py3-none-any.whl.metadata (720 bytes)\n",
            "Collecting sounddevice>=0.4.4 (from mediapipe)\n",
            "  Obtaining dependency information for sounddevice>=0.4.4 from https://files.pythonhosted.org/packages/39/ae/5e84220bfca4256e4ca2a62a174636089ab6ff671b5f9ddd7e8238587acd/sounddevice-0.4.6-py3-none-win_amd64.whl.metadata\n",
            "  Downloading sounddevice-0.4.6-py3-none-win_amd64.whl.metadata (1.4 kB)\n",
            "Requirement already satisfied: CFFI>=1.0 in d:\\anaconda\\lib\\site-packages (from sounddevice>=0.4.4->mediapipe) (1.15.1)\n",
            "Collecting ml-dtypes>=0.2.0 (from jax->mediapipe)\n",
            "  Obtaining dependency information for ml-dtypes>=0.2.0 from https://files.pythonhosted.org/packages/a4/db/1784b87285588788170f87e987bfb4bda218d62a70a81ebb66c94e7f9b95/ml_dtypes-0.3.2-cp311-cp311-win_amd64.whl.metadata\n",
            "  Downloading ml_dtypes-0.3.2-cp311-cp311-win_amd64.whl.metadata (20 kB)\n",
            "Collecting opt-einsum (from jax->mediapipe)\n",
            "  Obtaining dependency information for opt-einsum from https://files.pythonhosted.org/packages/bc/19/404708a7e54ad2798907210462fd950c3442ea51acc8790f3da48d2bee8b/opt_einsum-3.3.0-py3-none-any.whl.metadata\n",
            "  Downloading opt_einsum-3.3.0-py3-none-any.whl.metadata (6.5 kB)\n",
            "Requirement already satisfied: scipy>=1.9 in d:\\anaconda\\lib\\site-packages (from jax->mediapipe) (1.10.1)\n",
            "Requirement already satisfied: contourpy>=1.0.1 in d:\\anaconda\\lib\\site-packages (from matplotlib->mediapipe) (1.0.5)\n",
            "Requirement already satisfied: cycler>=0.10 in d:\\anaconda\\lib\\site-packages (from matplotlib->mediapipe) (0.11.0)\n",
            "Requirement already satisfied: fonttools>=4.22.0 in d:\\anaconda\\lib\\site-packages (from matplotlib->mediapipe) (4.25.0)\n",
            "Requirement already satisfied: kiwisolver>=1.0.1 in d:\\anaconda\\lib\\site-packages (from matplotlib->mediapipe) (1.4.4)\n",
            "Requirement already satisfied: packaging>=20.0 in c:\\users\\cliente\\appdata\\roaming\\python\\python311\\site-packages (from matplotlib->mediapipe) (23.2)\n",
            "Requirement already satisfied: pillow>=6.2.0 in d:\\anaconda\\lib\\site-packages (from matplotlib->mediapipe) (10.0.1)\n",
            "Requirement already satisfied: pyparsing>=2.3.1 in d:\\anaconda\\lib\\site-packages (from matplotlib->mediapipe) (3.0.9)\n",
            "Requirement already satisfied: python-dateutil>=2.7 in d:\\anaconda\\lib\\site-packages (from matplotlib->mediapipe) (2.8.2)\n",
            "Requirement already satisfied: pycparser in d:\\anaconda\\lib\\site-packages (from CFFI>=1.0->sounddevice>=0.4.4->mediapipe) (2.21)\n",
            "Requirement already satisfied: six>=1.5 in d:\\anaconda\\lib\\site-packages (from python-dateutil>=2.7->matplotlib->mediapipe) (1.16.0)\n",
            "Downloading mediapipe-0.10.10-cp311-cp311-win_amd64.whl (50.7 MB)\n",
            "   ---------------------------------------- 0.0/50.7 MB ? eta -:--:--\n",
            "   ---------------------------------------- 0.1/50.7 MB 4.2 MB/s eta 0:00:13\n",
            "   ---------------------------------------- 0.6/50.7 MB 7.4 MB/s eta 0:00:07\n",
            "   - -------------------------------------- 2.1/50.7 MB 14.5 MB/s eta 0:00:04\n",
            "   --- ------------------------------------ 4.3/50.7 MB 27.3 MB/s eta 0:00:02\n",
            "   --- ------------------------------------ 5.0/50.7 MB 22.8 MB/s eta 0:00:03\n",
            "   -------- ------------------------------- 10.5/50.7 MB 50.4 MB/s eta 0:00:01\n",
            "   ---------- ----------------------------- 13.6/50.7 MB 73.1 MB/s eta 0:00:01\n",
            "   ---------- ----------------------------- 13.6/50.7 MB 73.1 MB/s eta 0:00:01\n",
            "   ---------- ----------------------------- 13.6/50.7 MB 40.9 MB/s eta 0:00:01\n",
            "   ---------- ----------------------------- 13.7/50.7 MB 34.6 MB/s eta 0:00:02\n",
            "   ----------- ---------------------------- 14.0/50.7 MB 29.8 MB/s eta 0:00:02\n",
            "   ----------- ---------------------------- 14.3/50.7 MB 26.2 MB/s eta 0:00:02\n",
            "   ----------- ---------------------------- 14.6/50.7 MB 27.3 MB/s eta 0:00:02\n",
            "   ----------- ---------------------------- 15.1/50.7 MB 24.2 MB/s eta 0:00:02\n",
            "   ------------ --------------------------- 15.9/50.7 MB 22.6 MB/s eta 0:00:02\n",
            "   ------------- -------------------------- 16.9/50.7 MB 20.5 MB/s eta 0:00:02\n",
            "   -------------- ------------------------- 18.9/50.7 MB 19.8 MB/s eta 0:00:02\n",
            "   ------------------ --------------------- 23.2/50.7 MB 19.3 MB/s eta 0:00:02\n",
            "   --------------------- ------------------ 27.5/50.7 MB 93.9 MB/s eta 0:00:01\n",
            "   ------------------------ --------------- 31.7/50.7 MB 93.9 MB/s eta 0:00:01\n",
            "   ---------------------------- ----------- 36.0/50.7 MB 93.9 MB/s eta 0:00:01\n",
            "   ------------------------------- -------- 40.4/50.7 MB 93.9 MB/s eta 0:00:01\n",
            "   ----------------------------------- ---- 44.8/50.7 MB 93.0 MB/s eta 0:00:01\n",
            "   -------------------------------------- - 49.1/50.7 MB 93.0 MB/s eta 0:00:01\n",
            "   ---------------------------------------  50.7/50.7 MB 93.9 MB/s eta 0:00:01\n",
            "   ---------------------------------------  50.7/50.7 MB 93.9 MB/s eta 0:00:01\n",
            "   ---------------------------------------- 50.7/50.7 MB 50.4 MB/s eta 0:00:00\n",
            "Downloading flatbuffers-23.5.26-py2.py3-none-any.whl (26 kB)\n",
            "Downloading protobuf-3.20.3-py2.py3-none-any.whl (162 kB)\n",
            "   ---------------------------------------- 0.0/162.1 kB ? eta -:--:--\n",
            "   ---------------------------------------- 162.1/162.1 kB ? eta 0:00:00\n",
            "Downloading sounddevice-0.4.6-py3-none-win_amd64.whl (199 kB)\n",
            "   ---------------------------------------- 0.0/199.7 kB ? eta -:--:--\n",
            "   ---------------------------------------- 199.7/199.7 kB ? eta 0:00:00\n",
            "Downloading absl_py-2.1.0-py3-none-any.whl (133 kB)\n",
            "   ---------------------------------------- 0.0/133.7 kB ? eta -:--:--\n",
            "   ---------------------------------------- 133.7/133.7 kB ? eta 0:00:00\n",
            "Downloading jax-0.4.25-py3-none-any.whl (1.8 MB)\n",
            "   ---------------------------------------- 0.0/1.8 MB ? eta -:--:--\n",
            "   ---------------------------------------- 1.8/1.8 MB 58.1 MB/s eta 0:00:00\n",
            "Downloading opencv_contrib_python-4.9.0.80-cp37-abi3-win_amd64.whl (45.3 MB)\n",
            "   ---------------------------------------- 0.0/45.3 MB ? eta -:--:--\n",
            "   --- ------------------------------------ 4.4/45.3 MB 92.4 MB/s eta 0:00:01\n",
            "   ------- -------------------------------- 8.0/45.3 MB 100.8 MB/s eta 0:00:01\n",
            "   -------- ------------------------------- 9.1/45.3 MB 64.4 MB/s eta 0:00:01\n",
            "   ------------ --------------------------- 14.2/45.3 MB 65.6 MB/s eta 0:00:01\n",
            "   --------------- ------------------------ 17.1/45.3 MB 65.6 MB/s eta 0:00:01\n",
            "   ----------------- ---------------------- 19.9/45.3 MB 72.6 MB/s eta 0:00:01\n",
            "   -------------------- ------------------- 23.0/45.3 MB 59.5 MB/s eta 0:00:01\n",
            "   ---------------------- ----------------- 25.9/45.3 MB 59.8 MB/s eta 0:00:01\n",
            "   ------------------------- -------------- 29.1/45.3 MB 72.6 MB/s eta 0:00:01\n",
            "   ---------------------------- ----------- 32.2/45.3 MB 72.6 MB/s eta 0:00:01\n",
            "   ------------------------------- -------- 35.3/45.3 MB 73.1 MB/s eta 0:00:01\n",
            "   ---------------------------------- ----- 38.6/45.3 MB 73.1 MB/s eta 0:00:01\n",
            "   ------------------------------------ --- 41.7/45.3 MB 73.1 MB/s eta 0:00:01\n",
            "   ---------------------------------------  45.0/45.3 MB 72.6 MB/s eta 0:00:01\n",
            "   ---------------------------------------  45.3/45.3 MB 65.2 MB/s eta 0:00:01\n",
            "   ---------------------------------------  45.3/45.3 MB 65.2 MB/s eta 0:00:01\n",
            "   ---------------------------------------- 45.3/45.3 MB 40.9 MB/s eta 0:00:00\n",
            "Downloading ml_dtypes-0.3.2-cp311-cp311-win_amd64.whl (127 kB)\n",
            "   ---------------------------------------- 0.0/127.7 kB ? eta -:--:--\n",
            "   ---------------------------------------- 127.7/127.7 kB ? eta 0:00:00\n",
            "Downloading opt_einsum-3.3.0-py3-none-any.whl (65 kB)\n",
            "   ---------------------------------------- 0.0/65.5 kB ? eta -:--:--\n",
            "   ---------------------------------------- 65.5/65.5 kB ? eta 0:00:00\n",
            "Installing collected packages: flatbuffers, protobuf, opt-einsum, opencv-contrib-python, ml-dtypes, absl-py, sounddevice, jax, mediapipe\n",
            "  Attempting uninstall: protobuf\n",
            "    Found existing installation: protobuf 4.25.2\n",
            "    Uninstalling protobuf-4.25.2:\n",
            "      Successfully uninstalled protobuf-4.25.2\n",
            "Successfully installed absl-py-2.1.0 flatbuffers-23.5.26 jax-0.4.25 mediapipe-0.10.10 ml-dtypes-0.3.2 opencv-contrib-python-4.9.0.80 opt-einsum-3.3.0 protobuf-3.20.3 sounddevice-0.4.6\n"
          ]
        }
      ],
      "source": [
        "!pip install mediapipe opencv-python"
      ]
    },
    {
      "cell_type": "code",
      "execution_count": null,
      "id": "553a882c-0e3d-4056-948e-9e4ee1649d05",
      "metadata": {
        "id": "553a882c-0e3d-4056-948e-9e4ee1649d05"
      },
      "outputs": [],
      "source": [
        "import cv2\n",
        "import mediapipe as mp\n",
        "\n"
      ]
    },
    {
      "cell_type": "code",
      "execution_count": null,
      "id": "c290e22e-11a3-4d7f-a381-2b0adff40e4b",
      "metadata": {
        "id": "c290e22e-11a3-4d7f-a381-2b0adff40e4b"
      },
      "outputs": [],
      "source": [
        "#inicializacao opencv\n",
        "webcam = cv2.VideoCapture(0)"
      ]
    },
    {
      "cell_type": "code",
      "execution_count": null,
      "id": "d36e0550-e718-44f8-87fb-f7be059d0a07",
      "metadata": {
        "id": "d36e0550-e718-44f8-87fb-f7be059d0a07"
      },
      "outputs": [],
      "source": [
        "solucao_reconhecimento_rosto = mp.solutions.face_detection\n",
        "reconhecedor_rostos = solucao_reconhecimento_rosto.FaceDetection()\n",
        "desenho = mp.solutions.drawing_utils\n",
        "\n",
        "while True:\n",
        "    #ler informacoes da webcam\n",
        "    verificador, frame = webcam.read()\n",
        "\n",
        "    if not verificador:\n",
        "        break\n",
        "\n",
        "    #reconhecer os rostos\n",
        "    lista_rostos = reconhecedor_rostos.process(frame)\n",
        "\n",
        "    if lista_rostos.detections:\n",
        "\n",
        "        for rosto in lista_rostos.detections:\n",
        "            #desenhar os rostos na imagem\n",
        "            desenho.draw_detection(frame,rosto)\n",
        "\n",
        "    cv2.imshow(\"Rostos na webcam\",frame)\n",
        "\n",
        "\n",
        "    #quando apertar ESC, para o loop\n",
        "    if cv2.waitKey(5) == 27 : #esc = 27 ou ord()\n",
        "        break\n",
        "\n",
        "webcam.release()\n",
        "cv2.destroyAllWindows()"
      ]
    },
    {
      "cell_type": "code",
      "execution_count": null,
      "id": "b06c31e0-2a01-4252-a301-a55516704c43",
      "metadata": {
        "id": "b06c31e0-2a01-4252-a301-a55516704c43"
      },
      "outputs": [],
      "source": [
        "webcam.release()"
      ]
    }
  ],
  "metadata": {
    "kernelspec": {
      "display_name": "Python 3 (ipykernel)",
      "language": "python",
      "name": "python3"
    },
    "language_info": {
      "codemirror_mode": {
        "name": "ipython",
        "version": 3
      },
      "file_extension": ".py",
      "mimetype": "text/x-python",
      "name": "python",
      "nbconvert_exporter": "python",
      "pygments_lexer": "ipython3",
      "version": "3.11.4"
    },
    "colab": {
      "provenance": []
    }
  },
  "nbformat": 4,
  "nbformat_minor": 5
}