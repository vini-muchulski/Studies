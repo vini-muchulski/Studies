{
 "cells": [
  {
   "cell_type": "code",
   "execution_count": 2,
   "id": "3b37ba6e-a0c9-4e03-a330-3f55267832f4",
   "metadata": {},
   "outputs": [],
   "source": [
    "from selenium import webdriver\n",
    "from webdriver_manager.chrome import ChromeDriverManager\n",
    "from selenium.webdriver.chrome.service import Service\n",
    "\n",
    "servico = Service(ChromeDriverManager().install())\n",
    "\n",
    "navegador = webdriver.Chrome(service=servico)"
   ]
  },
  {
   "cell_type": "code",
   "execution_count": 4,
   "id": "0b1f36b0-6127-49f6-b041-7923fb370a97",
   "metadata": {},
   "outputs": [],
   "source": [
    "%config IPCompleter.greedy=True\n"
   ]
  },
  {
   "cell_type": "code",
   "execution_count": 6,
   "id": "be3eb085-6a49-48ec-bdf2-6fe240586bd2",
   "metadata": {},
   "outputs": [],
   "source": [
    "navegador.get(\"https://github.com/vini-muchulski\")"
   ]
  },
  {
   "cell_type": "code",
   "execution_count": 7,
   "id": "c5ab410c-fccc-4818-abe2-78e34ea8e5d7",
   "metadata": {},
   "outputs": [],
   "source": [
    "navegador.find_element(\"xpath\",\n",
    "                       \"/html/body/div[1]/div[4]/main/div[2]/div/div[1]/div/div[2]/div[1]/div[1]/a/img\").click()"
   ]
  },
  {
   "cell_type": "code",
   "execution_count": null,
   "id": "b36b1555-4254-466e-90d6-023ed085be48",
   "metadata": {},
   "outputs": [],
   "source": []
  }
 ],
 "metadata": {
  "kernelspec": {
   "display_name": "Python 3 (ipykernel)",
   "language": "python",
   "name": "python3"
  },
  "language_info": {
   "codemirror_mode": {
    "name": "ipython",
    "version": 3
   },
   "file_extension": ".py",
   "mimetype": "text/x-python",
   "name": "python",
   "nbconvert_exporter": "python",
   "pygments_lexer": "ipython3",
   "version": "3.11.4"
  }
 },
 "nbformat": 4,
 "nbformat_minor": 5
}
